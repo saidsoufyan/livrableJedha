{
 "cells": [
  {
   "cell_type": "markdown",
   "metadata": {},
   "source": [
    "## Import"
   ]
  },
  {
   "cell_type": "code",
   "execution_count": 5,
   "metadata": {},
   "outputs": [
    {
     "name": "stdout",
     "output_type": "stream",
     "text": [
      "Note: you may need to restart the kernel to use updated packages.\n"
     ]
    }
   ],
   "source": [
    "pip install tweepy -q"
   ]
  },
  {
   "cell_type": "code",
   "execution_count": 6,
   "metadata": {},
   "outputs": [],
   "source": [
    "import pandas as pd\n",
    "import numpy as np\n",
    "import tweepy\n",
    "pd.set_option('display.max_columns', None)\n",
    "import warnings\n",
    "warnings.filterwarnings(\"ignore\")"
   ]
  },
  {
   "cell_type": "code",
   "execution_count": 7,
   "metadata": {},
   "outputs": [],
   "source": [
    "consumer_key ='EkrBwVY3Jn2TdfIDygjttR84Y'\n",
    "consumer_secret ='hQsQT7ZRA6Yd1p0abX7ejqAFWFsag0u8sRiI21Qc4SGu1LMnpV'\n",
    "access_token = '1460169994105458690-Lh1rkKQiF1kG0OPCr6zzJRcMORNvPK'\n",
    "access_toket_secret ='dthv0VjETULWn9AR91dMCmorqMndZBldiabpBp3rCE59j'"
   ]
  },
  {
   "cell_type": "code",
   "execution_count": 8,
   "metadata": {},
   "outputs": [],
   "source": [
    "auth = tweepy.OAuthHandler(consumer_key, consumer_secret)\n",
    "auth.set_access_token(access_token, access_toket_secret)\n",
    "api = tweepy.API(auth)"
   ]
  },
  {
   "cell_type": "markdown",
   "metadata": {},
   "source": [
    "## Data"
   ]
  },
  {
   "cell_type": "code",
   "execution_count": 9,
   "metadata": {},
   "outputs": [],
   "source": [
    "data = pd.read_csv('../Projefinal/companies_Data_world_With_tweets_merged.csv')"
   ]
  },
  {
   "cell_type": "code",
   "execution_count": 10,
   "metadata": {},
   "outputs": [
    {
     "name": "stdout",
     "output_type": "stream",
     "text": [
      "Number of rows : 43087\n",
      "\n",
      "Basics statistics: \n"
     ]
    },
    {
     "data": {
      "text/html": [
       "<div>\n",
       "<style scoped>\n",
       "    .dataframe tbody tr th:only-of-type {\n",
       "        vertical-align: middle;\n",
       "    }\n",
       "\n",
       "    .dataframe tbody tr th {\n",
       "        vertical-align: top;\n",
       "    }\n",
       "\n",
       "    .dataframe thead th {\n",
       "        text-align: right;\n",
       "    }\n",
       "</style>\n",
       "<table border=\"1\" class=\"dataframe\">\n",
       "  <thead>\n",
       "    <tr style=\"text-align: right;\">\n",
       "      <th></th>\n",
       "      <th>Unnamed: 0</th>\n",
       "      <th>organization_name</th>\n",
       "      <th>twitter</th>\n",
       "    </tr>\n",
       "  </thead>\n",
       "  <tbody>\n",
       "    <tr>\n",
       "      <th>count</th>\n",
       "      <td>43087.000000</td>\n",
       "      <td>43087</td>\n",
       "      <td>43087</td>\n",
       "    </tr>\n",
       "    <tr>\n",
       "      <th>unique</th>\n",
       "      <td>NaN</td>\n",
       "      <td>39284</td>\n",
       "      <td>41473</td>\n",
       "    </tr>\n",
       "    <tr>\n",
       "      <th>top</th>\n",
       "      <td>NaN</td>\n",
       "      <td>Karma</td>\n",
       "      <td>https://twitter.com/_KarmaTeam_</td>\n",
       "    </tr>\n",
       "    <tr>\n",
       "      <th>freq</th>\n",
       "      <td>NaN</td>\n",
       "      <td>48</td>\n",
       "      <td>8</td>\n",
       "    </tr>\n",
       "    <tr>\n",
       "      <th>mean</th>\n",
       "      <td>33169.954650</td>\n",
       "      <td>NaN</td>\n",
       "      <td>NaN</td>\n",
       "    </tr>\n",
       "    <tr>\n",
       "      <th>std</th>\n",
       "      <td>18960.509897</td>\n",
       "      <td>NaN</td>\n",
       "      <td>NaN</td>\n",
       "    </tr>\n",
       "    <tr>\n",
       "      <th>min</th>\n",
       "      <td>2.000000</td>\n",
       "      <td>NaN</td>\n",
       "      <td>NaN</td>\n",
       "    </tr>\n",
       "    <tr>\n",
       "      <th>25%</th>\n",
       "      <td>16660.500000</td>\n",
       "      <td>NaN</td>\n",
       "      <td>NaN</td>\n",
       "    </tr>\n",
       "    <tr>\n",
       "      <th>50%</th>\n",
       "      <td>33132.000000</td>\n",
       "      <td>NaN</td>\n",
       "      <td>NaN</td>\n",
       "    </tr>\n",
       "    <tr>\n",
       "      <th>75%</th>\n",
       "      <td>49676.500000</td>\n",
       "      <td>NaN</td>\n",
       "      <td>NaN</td>\n",
       "    </tr>\n",
       "    <tr>\n",
       "      <th>max</th>\n",
       "      <td>65841.000000</td>\n",
       "      <td>NaN</td>\n",
       "      <td>NaN</td>\n",
       "    </tr>\n",
       "  </tbody>\n",
       "</table>\n",
       "</div>"
      ],
      "text/plain": [
       "          Unnamed: 0 organization_name                          twitter\n",
       "count   43087.000000             43087                            43087\n",
       "unique           NaN             39284                            41473\n",
       "top              NaN             Karma  https://twitter.com/_KarmaTeam_\n",
       "freq             NaN                48                                8\n",
       "mean    33169.954650               NaN                              NaN\n",
       "std     18960.509897               NaN                              NaN\n",
       "min         2.000000               NaN                              NaN\n",
       "25%     16660.500000               NaN                              NaN\n",
       "50%     33132.000000               NaN                              NaN\n",
       "75%     49676.500000               NaN                              NaN\n",
       "max     65841.000000               NaN                              NaN"
      ]
     },
     "metadata": {},
     "output_type": "display_data"
    },
    {
     "name": "stdout",
     "output_type": "stream",
     "text": [
      "\n",
      "Percentage of missing values: \n"
     ]
    },
    {
     "data": {
      "text/plain": [
       "twitter              0.0\n",
       "organization_name    0.0\n",
       "Unnamed: 0           0.0\n",
       "dtype: float64"
      ]
     },
     "metadata": {},
     "output_type": "display_data"
    }
   ],
   "source": [
    "# Basic stats\n",
    "print(\"Number of rows : {}\".format(data.shape[0]))\n",
    "print()\n",
    "\n",
    "print(\"Basics statistics: \")\n",
    "data_desc = data.describe(include='all')\n",
    "display(data_desc)\n",
    "print()\n",
    "\n",
    "print(\"Percentage of missing values: \")\n",
    "display((100*data.isnull().sum()/data.shape[0]).sort_values(ascending=False))"
   ]
  },
  {
   "cell_type": "code",
   "execution_count": 11,
   "metadata": {},
   "outputs": [],
   "source": [
    "data['twitter_clean'] = data['twitter'].str.replace('https://twitter.com/', '')\n",
    "data['twitter_clean'] = data['twitter_clean'].str.replace('https://www.twitter.com/', '')\n",
    "data['twitter_clean'] = data['twitter_clean'].str.replace('http://twitter.com/', '')\n",
    "data['twitter_clean'] = data['twitter_clean'].str.replace('http://www.twitter.com/', '')\n",
    "data['twitter_clean'] = data['twitter_clean'].str.replace('/', '')"
   ]
  },
  {
   "cell_type": "code",
   "execution_count": 12,
   "metadata": {},
   "outputs": [
    {
     "data": {
      "text/html": [
       "<div>\n",
       "<style scoped>\n",
       "    .dataframe tbody tr th:only-of-type {\n",
       "        vertical-align: middle;\n",
       "    }\n",
       "\n",
       "    .dataframe tbody tr th {\n",
       "        vertical-align: top;\n",
       "    }\n",
       "\n",
       "    .dataframe thead th {\n",
       "        text-align: right;\n",
       "    }\n",
       "</style>\n",
       "<table border=\"1\" class=\"dataframe\">\n",
       "  <thead>\n",
       "    <tr style=\"text-align: right;\">\n",
       "      <th></th>\n",
       "      <th>Unnamed: 0</th>\n",
       "    </tr>\n",
       "  </thead>\n",
       "  <tbody>\n",
       "    <tr>\n",
       "      <th>count</th>\n",
       "      <td>43087.000000</td>\n",
       "    </tr>\n",
       "    <tr>\n",
       "      <th>mean</th>\n",
       "      <td>33169.954650</td>\n",
       "    </tr>\n",
       "    <tr>\n",
       "      <th>std</th>\n",
       "      <td>18960.509897</td>\n",
       "    </tr>\n",
       "    <tr>\n",
       "      <th>min</th>\n",
       "      <td>2.000000</td>\n",
       "    </tr>\n",
       "    <tr>\n",
       "      <th>25%</th>\n",
       "      <td>16660.500000</td>\n",
       "    </tr>\n",
       "    <tr>\n",
       "      <th>50%</th>\n",
       "      <td>33132.000000</td>\n",
       "    </tr>\n",
       "    <tr>\n",
       "      <th>75%</th>\n",
       "      <td>49676.500000</td>\n",
       "    </tr>\n",
       "    <tr>\n",
       "      <th>max</th>\n",
       "      <td>65841.000000</td>\n",
       "    </tr>\n",
       "  </tbody>\n",
       "</table>\n",
       "</div>"
      ],
      "text/plain": [
       "         Unnamed: 0\n",
       "count  43087.000000\n",
       "mean   33169.954650\n",
       "std    18960.509897\n",
       "min        2.000000\n",
       "25%    16660.500000\n",
       "50%    33132.000000\n",
       "75%    49676.500000\n",
       "max    65841.000000"
      ]
     },
     "execution_count": 12,
     "metadata": {},
     "output_type": "execute_result"
    }
   ],
   "source": [
    "data.describe()"
   ]
  },
  {
   "cell_type": "markdown",
   "metadata": {},
   "source": [
    "## 1st Scraping"
   ]
  },
  {
   "cell_type": "code",
   "execution_count": null,
   "metadata": {},
   "outputs": [],
   "source": [
    "#new data frame to stock tweets\n",
    "print('Creating dftweets')\n",
    "new_columns = ['Twitter_Account', 'Tweeted']\n",
    "dftweets = pd.DataFrame(columns = new_columns)\n",
    "print('dftweets created')"
   ]
  },
  {
   "cell_type": "code",
   "execution_count": null,
   "metadata": {},
   "outputs": [],
   "source": [
    "#new data frame to stock errors\n",
    "print('Creating dferrors')\n",
    "new_column = ['Twitter_Account']\n",
    "dferrors = pd.DataFrame(columns = new_column)\n",
    "print('dferrors created')"
   ]
  },
  {
   "cell_type": "code",
   "execution_count": null,
   "metadata": {},
   "outputs": [],
   "source": [
    "number_of_tweet = 3\n",
    "\n",
    "# Scraping\n",
    "\n",
    "print('Scrap twitter')\n",
    "for i in data['twitter_clean']:\n",
    "    try:\n",
    "        for j in tweepy.Cursor(api.user_timeline, screen_name=str(i), tweet_mode='extended').items(number_of_tweet):\n",
    "            dftweets= dftweets.append({'Twitter_Account':i,'Tweeted':j.full_text}, ignore_index=True)\n",
    "\n",
    "    except:\n",
    "        dferrors = dferrors.append({'Twitter_Account':i},ignore_index=True)\n",
    "        \n",
    "        continue\n",
    "        \n",
    "print('Finally fucking finished !!!! ')"
   ]
  },
  {
   "cell_type": "code",
   "execution_count": null,
   "metadata": {},
   "outputs": [],
   "source": [
    "dftweets.describe()"
   ]
  },
  {
   "cell_type": "code",
   "execution_count": null,
   "metadata": {},
   "outputs": [],
   "source": [
    "dferrors.describe()"
   ]
  },
  {
   "cell_type": "markdown",
   "metadata": {},
   "source": [
    "## To CSV"
   ]
  },
  {
   "cell_type": "code",
   "execution_count": null,
   "metadata": {},
   "outputs": [],
   "source": [
    "dftweets.to_csv('dftweets.csv', index = False)"
   ]
  },
  {
   "cell_type": "code",
   "execution_count": null,
   "metadata": {},
   "outputs": [],
   "source": [
    "dferrors.to_csv('dferrors.csv', index= False)"
   ]
  },
  {
   "cell_type": "markdown",
   "metadata": {},
   "source": [
    "## 2nd Scraping (On Missing/Errors company)"
   ]
  },
  {
   "cell_type": "code",
   "execution_count": null,
   "metadata": {},
   "outputs": [],
   "source": [
    "errorsdata=pd.read_csv('dferrors.csv')"
   ]
  },
  {
   "cell_type": "code",
   "execution_count": null,
   "metadata": {},
   "outputs": [],
   "source": [
    "errorsdata.drop_duplicates(subset = 'Twitter_Account')"
   ]
  },
  {
   "cell_type": "code",
   "execution_count": null,
   "metadata": {},
   "outputs": [],
   "source": [
    "dftweets=pd.read_csv('dftweets.csv')"
   ]
  },
  {
   "cell_type": "code",
   "execution_count": null,
   "metadata": {},
   "outputs": [],
   "source": [
    "number_of_tweet = 3\n",
    "\n",
    "# Scraping\n",
    "\n",
    "print('Scrap twitter')\n",
    "for i in errorsdata['Twitter_Account']:\n",
    "    try:\n",
    "        for j in tweepy.Cursor(api.user_timeline, screen_name=str(i), tweet_mode='extended').items(number_of_tweet):\n",
    "            dftweets= dftweets.append({'Twitter_Account':i,'Tweeted':j.full_text}, ignore_index=True)\n",
    "\n",
    "    except:\n",
    "        errorsdata = errorsdata.append({'Twitter_Account':i},ignore_index=True)\n",
    "        \n",
    "        continue\n",
    "        \n",
    "print('Finally fucking finished !!!! ')"
   ]
  },
  {
   "cell_type": "code",
   "execution_count": null,
   "metadata": {},
   "outputs": [],
   "source": [
    "dftweets.describe()"
   ]
  },
  {
   "cell_type": "code",
   "execution_count": null,
   "metadata": {},
   "outputs": [],
   "source": [
    "errorsdata.describe()"
   ]
  },
  {
   "cell_type": "markdown",
   "metadata": {},
   "source": [
    "## 3rd Scraping (Companies with stock values)"
   ]
  },
  {
   "cell_type": "code",
   "execution_count": 13,
   "metadata": {},
   "outputs": [],
   "source": [
    "companies = pd.read_csv('finance_with_twittertag_notnull.csv')"
   ]
  },
  {
   "cell_type": "code",
   "execution_count": 14,
   "metadata": {},
   "outputs": [
    {
     "name": "stdout",
     "output_type": "stream",
     "text": [
      "Number of rows : 610\n",
      "\n",
      "Basics statistics: \n"
     ]
    },
    {
     "data": {
      "text/html": [
       "<div>\n",
       "<style scoped>\n",
       "    .dataframe tbody tr th:only-of-type {\n",
       "        vertical-align: middle;\n",
       "    }\n",
       "\n",
       "    .dataframe tbody tr th {\n",
       "        vertical-align: top;\n",
       "    }\n",
       "\n",
       "    .dataframe thead th {\n",
       "        text-align: right;\n",
       "    }\n",
       "</style>\n",
       "<table border=\"1\" class=\"dataframe\">\n",
       "  <thead>\n",
       "    <tr style=\"text-align: right;\">\n",
       "      <th></th>\n",
       "      <th>Unnamed: 0</th>\n",
       "      <th>name</th>\n",
       "      <th>organization_name</th>\n",
       "      <th>twitter</th>\n",
       "    </tr>\n",
       "  </thead>\n",
       "  <tbody>\n",
       "    <tr>\n",
       "      <th>count</th>\n",
       "      <td>610.000000</td>\n",
       "      <td>610</td>\n",
       "      <td>610</td>\n",
       "      <td>610</td>\n",
       "    </tr>\n",
       "    <tr>\n",
       "      <th>unique</th>\n",
       "      <td>NaN</td>\n",
       "      <td>588</td>\n",
       "      <td>588</td>\n",
       "      <td>606</td>\n",
       "    </tr>\n",
       "    <tr>\n",
       "      <th>top</th>\n",
       "      <td>NaN</td>\n",
       "      <td>SHIFT</td>\n",
       "      <td>SHIFT</td>\n",
       "      <td>http://twitter.com/search</td>\n",
       "    </tr>\n",
       "    <tr>\n",
       "      <th>freq</th>\n",
       "      <td>NaN</td>\n",
       "      <td>4</td>\n",
       "      <td>4</td>\n",
       "      <td>3</td>\n",
       "    </tr>\n",
       "    <tr>\n",
       "      <th>mean</th>\n",
       "      <td>418.968852</td>\n",
       "      <td>NaN</td>\n",
       "      <td>NaN</td>\n",
       "      <td>NaN</td>\n",
       "    </tr>\n",
       "    <tr>\n",
       "      <th>std</th>\n",
       "      <td>242.234367</td>\n",
       "      <td>NaN</td>\n",
       "      <td>NaN</td>\n",
       "      <td>NaN</td>\n",
       "    </tr>\n",
       "    <tr>\n",
       "      <th>min</th>\n",
       "      <td>0.000000</td>\n",
       "      <td>NaN</td>\n",
       "      <td>NaN</td>\n",
       "      <td>NaN</td>\n",
       "    </tr>\n",
       "    <tr>\n",
       "      <th>25%</th>\n",
       "      <td>210.250000</td>\n",
       "      <td>NaN</td>\n",
       "      <td>NaN</td>\n",
       "      <td>NaN</td>\n",
       "    </tr>\n",
       "    <tr>\n",
       "      <th>50%</th>\n",
       "      <td>417.500000</td>\n",
       "      <td>NaN</td>\n",
       "      <td>NaN</td>\n",
       "      <td>NaN</td>\n",
       "    </tr>\n",
       "    <tr>\n",
       "      <th>75%</th>\n",
       "      <td>625.750000</td>\n",
       "      <td>NaN</td>\n",
       "      <td>NaN</td>\n",
       "      <td>NaN</td>\n",
       "    </tr>\n",
       "    <tr>\n",
       "      <th>max</th>\n",
       "      <td>842.000000</td>\n",
       "      <td>NaN</td>\n",
       "      <td>NaN</td>\n",
       "      <td>NaN</td>\n",
       "    </tr>\n",
       "  </tbody>\n",
       "</table>\n",
       "</div>"
      ],
      "text/plain": [
       "        Unnamed: 0   name organization_name                    twitter\n",
       "count   610.000000    610               610                        610\n",
       "unique         NaN    588               588                        606\n",
       "top            NaN  SHIFT             SHIFT  http://twitter.com/search\n",
       "freq           NaN      4                 4                          3\n",
       "mean    418.968852    NaN               NaN                        NaN\n",
       "std     242.234367    NaN               NaN                        NaN\n",
       "min       0.000000    NaN               NaN                        NaN\n",
       "25%     210.250000    NaN               NaN                        NaN\n",
       "50%     417.500000    NaN               NaN                        NaN\n",
       "75%     625.750000    NaN               NaN                        NaN\n",
       "max     842.000000    NaN               NaN                        NaN"
      ]
     },
     "metadata": {},
     "output_type": "display_data"
    },
    {
     "name": "stdout",
     "output_type": "stream",
     "text": [
      "\n",
      "Percentage of missing values: \n"
     ]
    },
    {
     "data": {
      "text/plain": [
       "twitter              0.0\n",
       "organization_name    0.0\n",
       "name                 0.0\n",
       "Unnamed: 0           0.0\n",
       "dtype: float64"
      ]
     },
     "metadata": {},
     "output_type": "display_data"
    }
   ],
   "source": [
    "# Basic stats\n",
    "print(\"Number of rows : {}\".format(companies.shape[0]))\n",
    "print()\n",
    "\n",
    "print(\"Basics statistics: \")\n",
    "companies_desc = companies.describe(include='all')\n",
    "display(companies_desc)\n",
    "print()\n",
    "\n",
    "print(\"Percentage of missing values: \")\n",
    "display((100*companies.isnull().sum()/companies.shape[0]).sort_values(ascending=False))\n"
   ]
  },
  {
   "cell_type": "code",
   "execution_count": 15,
   "metadata": {},
   "outputs": [],
   "source": [
    "companies['twitter_clean'] = companies['twitter'].str.replace('https://twitter.com/', '')\n",
    "companies['twitter_clean'] = companies['twitter_clean'].str.replace('https://www.twitter.com/', '')\n",
    "companies['twitter_clean'] = companies['twitter_clean'].str.replace('http://twitter.com/', '')\n",
    "companies['twitter_clean'] = companies['twitter_clean'].str.replace('http://www.twitter.com/', '')\n",
    "companies['twitter_clean'] = companies['twitter_clean'].str.replace('/', '')"
   ]
  },
  {
   "cell_type": "code",
   "execution_count": 16,
   "metadata": {},
   "outputs": [
    {
     "data": {
      "text/plain": [
       "count        610\n",
       "unique       604\n",
       "top       search\n",
       "freq           3\n",
       "Name: twitter_clean, dtype: object"
      ]
     },
     "execution_count": 16,
     "metadata": {},
     "output_type": "execute_result"
    }
   ],
   "source": [
    "companies['twitter_clean'].describe()"
   ]
  },
  {
   "cell_type": "code",
   "execution_count": 17,
   "metadata": {},
   "outputs": [
    {
     "data": {
      "text/html": [
       "<div>\n",
       "<style scoped>\n",
       "    .dataframe tbody tr th:only-of-type {\n",
       "        vertical-align: middle;\n",
       "    }\n",
       "\n",
       "    .dataframe tbody tr th {\n",
       "        vertical-align: top;\n",
       "    }\n",
       "\n",
       "    .dataframe thead th {\n",
       "        text-align: right;\n",
       "    }\n",
       "</style>\n",
       "<table border=\"1\" class=\"dataframe\">\n",
       "  <thead>\n",
       "    <tr style=\"text-align: right;\">\n",
       "      <th></th>\n",
       "      <th>Unnamed: 0</th>\n",
       "      <th>name</th>\n",
       "      <th>organization_name</th>\n",
       "      <th>twitter</th>\n",
       "      <th>twitter_clean</th>\n",
       "    </tr>\n",
       "  </thead>\n",
       "  <tbody>\n",
       "    <tr>\n",
       "      <th>0</th>\n",
       "      <td>0</td>\n",
       "      <td>21viaNet</td>\n",
       "      <td>21viaNet</td>\n",
       "      <td>https://twitter.com/21vnet</td>\n",
       "      <td>21vnet</td>\n",
       "    </tr>\n",
       "    <tr>\n",
       "      <th>1</th>\n",
       "      <td>2</td>\n",
       "      <td>2U Inc.</td>\n",
       "      <td>2U Inc.</td>\n",
       "      <td>http://twitter.com/2uinc</td>\n",
       "      <td>2uinc</td>\n",
       "    </tr>\n",
       "    <tr>\n",
       "      <th>2</th>\n",
       "      <td>3</td>\n",
       "      <td>3D Systems</td>\n",
       "      <td>3D Systems</td>\n",
       "      <td>https://twitter.com/3dsystems</td>\n",
       "      <td>3dsystems</td>\n",
       "    </tr>\n",
       "    <tr>\n",
       "      <th>3</th>\n",
       "      <td>4</td>\n",
       "      <td>6D Global Technologies</td>\n",
       "      <td>6D Global Technologies</td>\n",
       "      <td>https://twitter.com/6dglobal</td>\n",
       "      <td>6dglobal</td>\n",
       "    </tr>\n",
       "    <tr>\n",
       "      <th>4</th>\n",
       "      <td>5</td>\n",
       "      <td>A10 Networks</td>\n",
       "      <td>A10 Networks</td>\n",
       "      <td>http://twitter.com/A10Networks</td>\n",
       "      <td>A10Networks</td>\n",
       "    </tr>\n",
       "    <tr>\n",
       "      <th>...</th>\n",
       "      <td>...</td>\n",
       "      <td>...</td>\n",
       "      <td>...</td>\n",
       "      <td>...</td>\n",
       "      <td>...</td>\n",
       "    </tr>\n",
       "    <tr>\n",
       "      <th>605</th>\n",
       "      <td>836</td>\n",
       "      <td>Williams-Sonoma</td>\n",
       "      <td>Williams-Sonoma</td>\n",
       "      <td>http://twitter.com/WilliamsSonoma</td>\n",
       "      <td>WilliamsSonoma</td>\n",
       "    </tr>\n",
       "    <tr>\n",
       "      <th>606</th>\n",
       "      <td>838</td>\n",
       "      <td>Wix</td>\n",
       "      <td>Wix</td>\n",
       "      <td>https://twitter.com/wix</td>\n",
       "      <td>wix</td>\n",
       "    </tr>\n",
       "    <tr>\n",
       "      <th>607</th>\n",
       "      <td>839</td>\n",
       "      <td>Workday</td>\n",
       "      <td>Workday</td>\n",
       "      <td>http://twitter.com/Workday</td>\n",
       "      <td>Workday</td>\n",
       "    </tr>\n",
       "    <tr>\n",
       "      <th>608</th>\n",
       "      <td>841</td>\n",
       "      <td>CareDx</td>\n",
       "      <td>CareDx</td>\n",
       "      <td>http://twitter.com/AlloMap1</td>\n",
       "      <td>AlloMap1</td>\n",
       "    </tr>\n",
       "    <tr>\n",
       "      <th>609</th>\n",
       "      <td>842</td>\n",
       "      <td>Xencor</td>\n",
       "      <td>Xencor</td>\n",
       "      <td>http://twitter.com/xencor</td>\n",
       "      <td>xencor</td>\n",
       "    </tr>\n",
       "  </tbody>\n",
       "</table>\n",
       "<p>604 rows × 5 columns</p>\n",
       "</div>"
      ],
      "text/plain": [
       "     Unnamed: 0                    name       organization_name  \\\n",
       "0             0                21viaNet                21viaNet   \n",
       "1             2                 2U Inc.                 2U Inc.   \n",
       "2             3              3D Systems              3D Systems   \n",
       "3             4  6D Global Technologies  6D Global Technologies   \n",
       "4             5            A10 Networks            A10 Networks   \n",
       "..          ...                     ...                     ...   \n",
       "605         836         Williams-Sonoma         Williams-Sonoma   \n",
       "606         838                     Wix                     Wix   \n",
       "607         839                 Workday                 Workday   \n",
       "608         841                  CareDx                  CareDx   \n",
       "609         842                  Xencor                  Xencor   \n",
       "\n",
       "                               twitter   twitter_clean  \n",
       "0           https://twitter.com/21vnet          21vnet  \n",
       "1             http://twitter.com/2uinc           2uinc  \n",
       "2        https://twitter.com/3dsystems       3dsystems  \n",
       "3         https://twitter.com/6dglobal        6dglobal  \n",
       "4       http://twitter.com/A10Networks     A10Networks  \n",
       "..                                 ...             ...  \n",
       "605  http://twitter.com/WilliamsSonoma  WilliamsSonoma  \n",
       "606            https://twitter.com/wix             wix  \n",
       "607         http://twitter.com/Workday         Workday  \n",
       "608        http://twitter.com/AlloMap1        AlloMap1  \n",
       "609          http://twitter.com/xencor          xencor  \n",
       "\n",
       "[604 rows x 5 columns]"
      ]
     },
     "execution_count": 17,
     "metadata": {},
     "output_type": "execute_result"
    }
   ],
   "source": [
    "companies.drop_duplicates(subset = 'twitter_clean')"
   ]
  },
  {
   "cell_type": "code",
   "execution_count": 18,
   "metadata": {},
   "outputs": [],
   "source": [
    "companies.drop(['Unnamed: 0'], axis=1, inplace=True)\n"
   ]
  },
  {
   "cell_type": "code",
   "execution_count": 19,
   "metadata": {},
   "outputs": [
    {
     "name": "stdout",
     "output_type": "stream",
     "text": [
      "Creating dftweets\n",
      "dftweets created\n"
     ]
    }
   ],
   "source": [
    "#new data frame to stock tweets\n",
    "print('Creating dftweets')\n",
    "new_columns = ['Twitter_Account', 'Tweeted']\n",
    "datatweets = pd.DataFrame(columns = new_columns)\n",
    "print('dftweets created')"
   ]
  },
  {
   "cell_type": "code",
   "execution_count": 20,
   "metadata": {},
   "outputs": [
    {
     "name": "stdout",
     "output_type": "stream",
     "text": [
      "Creating dferrors\n",
      "dferrors created\n"
     ]
    }
   ],
   "source": [
    "#new data frame to stock finance companies errors\n",
    "print('Creating dferrors')\n",
    "new_column = ['Twitter_Account']\n",
    "finance_errors = pd.DataFrame(columns = new_column)\n",
    "print('dferrors created')"
   ]
  },
  {
   "cell_type": "code",
   "execution_count": 21,
   "metadata": {},
   "outputs": [
    {
     "name": "stdout",
     "output_type": "stream",
     "text": [
      "Scrap twitter\n",
      "Scraping ended !\n"
     ]
    }
   ],
   "source": [
    "number_of_tweet = 5\n",
    "\n",
    "# Scraping\n",
    "\n",
    "print('Scrap twitter')\n",
    "for i in companies['twitter_clean']:\n",
    "    try:\n",
    "        for j in tweepy.Cursor(api.user_timeline, screen_name=i, tweet_mode='extended').items(number_of_tweet):\n",
    "            datatweets= datatweets.append({'Twitter_Account':i,'Tweeted':j.full_text}, ignore_index=True)\n",
    "\n",
    "    except:\n",
    "        finance_errors = finance_errors.append({'Twitter_Account':i},ignore_index=True)\n",
    "        \n",
    "        continue\n",
    "        \n",
    "print('Scraping ended !')"
   ]
  },
  {
   "cell_type": "code",
   "execution_count": 22,
   "metadata": {},
   "outputs": [
    {
     "data": {
      "text/html": [
       "<div>\n",
       "<style scoped>\n",
       "    .dataframe tbody tr th:only-of-type {\n",
       "        vertical-align: middle;\n",
       "    }\n",
       "\n",
       "    .dataframe tbody tr th {\n",
       "        vertical-align: top;\n",
       "    }\n",
       "\n",
       "    .dataframe thead th {\n",
       "        text-align: right;\n",
       "    }\n",
       "</style>\n",
       "<table border=\"1\" class=\"dataframe\">\n",
       "  <thead>\n",
       "    <tr style=\"text-align: right;\">\n",
       "      <th></th>\n",
       "      <th>Twitter_Account</th>\n",
       "      <th>Tweeted</th>\n",
       "    </tr>\n",
       "  </thead>\n",
       "  <tbody>\n",
       "    <tr>\n",
       "      <th>count</th>\n",
       "      <td>2602</td>\n",
       "      <td>2602</td>\n",
       "    </tr>\n",
       "    <tr>\n",
       "      <th>unique</th>\n",
       "      <td>523</td>\n",
       "      <td>2576</td>\n",
       "    </tr>\n",
       "    <tr>\n",
       "      <th>top</th>\n",
       "      <td>Rackspace</td>\n",
       "      <td>We're proud to support @WelcomingAll with its ...</td>\n",
       "    </tr>\n",
       "    <tr>\n",
       "      <th>freq</th>\n",
       "      <td>10</td>\n",
       "      <td>2</td>\n",
       "    </tr>\n",
       "  </tbody>\n",
       "</table>\n",
       "</div>"
      ],
      "text/plain": [
       "       Twitter_Account                                            Tweeted\n",
       "count             2602                                               2602\n",
       "unique             523                                               2576\n",
       "top          Rackspace  We're proud to support @WelcomingAll with its ...\n",
       "freq                10                                                  2"
      ]
     },
     "execution_count": 22,
     "metadata": {},
     "output_type": "execute_result"
    }
   ],
   "source": [
    "datatweets.describe()"
   ]
  },
  {
   "cell_type": "code",
   "execution_count": 23,
   "metadata": {},
   "outputs": [
    {
     "data": {
      "text/html": [
       "<div>\n",
       "<style scoped>\n",
       "    .dataframe tbody tr th:only-of-type {\n",
       "        vertical-align: middle;\n",
       "    }\n",
       "\n",
       "    .dataframe tbody tr th {\n",
       "        vertical-align: top;\n",
       "    }\n",
       "\n",
       "    .dataframe thead th {\n",
       "        text-align: right;\n",
       "    }\n",
       "</style>\n",
       "<table border=\"1\" class=\"dataframe\">\n",
       "  <thead>\n",
       "    <tr style=\"text-align: right;\">\n",
       "      <th></th>\n",
       "      <th>Twitter_Account</th>\n",
       "      <th>Tweeted</th>\n",
       "    </tr>\n",
       "  </thead>\n",
       "  <tbody>\n",
       "    <tr>\n",
       "      <th>0</th>\n",
       "      <td>21vnet</td>\n",
       "      <td>\"IBM Partnered with 21Vianet to Expand Bluemix...</td>\n",
       "    </tr>\n",
       "    <tr>\n",
       "      <th>1</th>\n",
       "      <td>21vnet</td>\n",
       "      <td>\"Service Provision to Multi-National Companys(...</td>\n",
       "    </tr>\n",
       "    <tr>\n",
       "      <th>2</th>\n",
       "      <td>21vnet</td>\n",
       "      <td>OEaaS https://t.co/rOGPrxjSlx via @YouTube</td>\n",
       "    </tr>\n",
       "    <tr>\n",
       "      <th>3</th>\n",
       "      <td>21vnet</td>\n",
       "      <td>https://t.co/buV9KuU4PP</td>\n",
       "    </tr>\n",
       "    <tr>\n",
       "      <th>4</th>\n",
       "      <td>21vnet</td>\n",
       "      <td>21Vianet is the largest carrier-neutral intern...</td>\n",
       "    </tr>\n",
       "    <tr>\n",
       "      <th>...</th>\n",
       "      <td>...</td>\n",
       "      <td>...</td>\n",
       "    </tr>\n",
       "    <tr>\n",
       "      <th>2597</th>\n",
       "      <td>AlloMap1</td>\n",
       "      <td>The latest on the DART trial and AlloSure in k...</td>\n",
       "    </tr>\n",
       "    <tr>\n",
       "      <th>2598</th>\n",
       "      <td>AlloMap1</td>\n",
       "      <td>Getting ready to celebrate those that gave the...</td>\n",
       "    </tr>\n",
       "    <tr>\n",
       "      <th>2599</th>\n",
       "      <td>xencor</td>\n",
       "      <td>Just getting the feel of WSJ</td>\n",
       "    </tr>\n",
       "    <tr>\n",
       "      <th>2600</th>\n",
       "      <td>xencor</td>\n",
       "      <td>Relishing filter coffee as I watch Karl and Su...</td>\n",
       "    </tr>\n",
       "    <tr>\n",
       "      <th>2601</th>\n",
       "      <td>xencor</td>\n",
       "      <td>My first tweet is now being updated...through ...</td>\n",
       "    </tr>\n",
       "  </tbody>\n",
       "</table>\n",
       "<p>2576 rows × 2 columns</p>\n",
       "</div>"
      ],
      "text/plain": [
       "     Twitter_Account                                            Tweeted\n",
       "0             21vnet  \"IBM Partnered with 21Vianet to Expand Bluemix...\n",
       "1             21vnet  \"Service Provision to Multi-National Companys(...\n",
       "2             21vnet         OEaaS https://t.co/rOGPrxjSlx via @YouTube\n",
       "3             21vnet                            https://t.co/buV9KuU4PP\n",
       "4             21vnet  21Vianet is the largest carrier-neutral intern...\n",
       "...              ...                                                ...\n",
       "2597        AlloMap1  The latest on the DART trial and AlloSure in k...\n",
       "2598        AlloMap1  Getting ready to celebrate those that gave the...\n",
       "2599          xencor                       Just getting the feel of WSJ\n",
       "2600          xencor  Relishing filter coffee as I watch Karl and Su...\n",
       "2601          xencor  My first tweet is now being updated...through ...\n",
       "\n",
       "[2576 rows x 2 columns]"
      ]
     },
     "execution_count": 23,
     "metadata": {},
     "output_type": "execute_result"
    }
   ],
   "source": [
    "datatweets.drop_duplicates(subset='Tweeted')"
   ]
  },
  {
   "cell_type": "markdown",
   "metadata": {},
   "source": [
    "## To CSV"
   ]
  },
  {
   "cell_type": "code",
   "execution_count": 24,
   "metadata": {},
   "outputs": [],
   "source": [
    "datatweets.to_csv('datatweets.csv', index = False)"
   ]
  },
  {
   "cell_type": "code",
   "execution_count": 34,
   "metadata": {},
   "outputs": [],
   "source": [
    "finance_errors.to_csv('finance_errors.csv', index= False)"
   ]
  }
 ],
 "metadata": {
  "kernelspec": {
   "display_name": "Python 3",
   "language": "python",
   "name": "python3"
  },
  "language_info": {
   "codemirror_mode": {
    "name": "ipython",
    "version": 3
   },
   "file_extension": ".py",
   "mimetype": "text/x-python",
   "name": "python",
   "nbconvert_exporter": "python",
   "pygments_lexer": "ipython3",
   "version": "3.8.6"
  }
 },
 "nbformat": 4,
 "nbformat_minor": 4
}
